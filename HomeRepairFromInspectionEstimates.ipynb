{
  "cells": [
    {
      "cell_type": "markdown",
      "metadata": {
        "id": "view-in-github",
        "colab_type": "text"
      },
      "source": [
        "<a href=\"https://colab.research.google.com/github/sboettch/files/blob/main/HomeRepairFromInspectionEstimates.ipynb\" target=\"_parent\"><img src=\"https://colab.research.google.com/assets/colab-badge.svg\" alt=\"Open In Colab\"/></a>"
      ]
    },
    {
      "cell_type": "markdown",
      "id": "5e81336d",
      "metadata": {
        "id": "5e81336d"
      },
      "source": [
        "# REPAIR LAUNDRY LIST FROM INSPECTION OVERVIEW\n",
        "-----"
      ]
    },
    {
      "cell_type": "markdown",
      "id": "8e78dc73",
      "metadata": {
        "id": "8e78dc73"
      },
      "source": [
        "# PART 1: Repair/Replace Items"
      ]
    },
    {
      "cell_type": "markdown",
      "id": "3ceda142",
      "metadata": {
        "id": "3ceda142"
      },
      "source": [
        "### Repair/Replace 1-1: G (Grounds, Garage)\n",
        "\n",
        "| Issue | Recommended Fix | Recommended Specialist | Estimated Cost Range | Difficulty | Possible To DIY (True/False) | Total Professional Labor and Fees Cost Estimate | Total Hours Labor Estimate | Total Materials Cost Estimate |\n",
        "|-------|-----------------|------------------------|-----------------------|------------|--------------------------------|--------------------------------------------------|------------------------------|-------------------------------------|\n",
        "| G-1 Grounds: The siding on the front and left sides of the home is in contact with the ground. Siding that is too close to the ground can cause decay as the materials struggle to dry out. Generally, a 6-inch clearance between the ground and any wood and/or siding is recommended. Sometimes this is not fully achievable, but efforts should be made to get as much clearance as possible. | Install a 6-inch (15 cm) barrier between the ground and the siding, such as landscaping timbers or bricks. | General contractor or handyman | ``$100 - $200`` | Easy | True | ``$100 - $200`` | 2 hours | ``$0 - $50`` |\n",
        "| G-2 Grounds: Typical cracks and moderate settling were noted in driveway flatwork. Filling these cracks with a self-leveling caulk will help prevent further settling and deterioration.  | Fill the cracks with a self-leveling caulk. | General contractor or handyman | ``$50 - $100`` | Easy | True | ``$50 - $100`` | 1 hour | ``$0 - $25`` |\n",
        "| G1-1 Garage: The fire rating of the garage entry door is compromised as a pet access door has been cut into it. This should be updated to a modern fire rated door for improved fire safety. | Replace the garage door with a modern fire rated door. | General contractor or handyman | ``$500 - $1,000`` | Moderate | False | ``$500 - $1,000`` | 4 hours | ``$0 - $250`` |\n",
        "| G1-2 Garage: The laser eye safety mechanisms for the north overhead garage door have been set too high - these sensors should be 5-6 inches off of the floor to perform as intended. | Lower the laser eye safety mechanisms to 5-6 inches (13 - 15 cm) off of the floor. | General contractor or handyman | ``$25 - $50`` | Easy | True | ``$25 - $50`` | 1 hour | ``$0 - $25`` |\n",
        "\n",
        "**Estimated total cost of the repairs:**  ``$1,275 - $2,275`` *(This includes the cost of materials, labor, and any permits that may be required.)*\n"
      ]
    },
    {
      "cell_type": "markdown",
      "id": "911965de",
      "metadata": {
        "id": "911965de"
      },
      "source": [
        "### Repair/Replace Items 1-2: R (Roof)\n",
        "\n",
        "| Issue | Recommended Fix | Recommended Specialist | Estimated Cost Range | Difficulty | Possible To DIY (True/False) | Total Professional Labor and Fees Cost Estimate | Total Hours Labor Estimate | Total Materials Cost Estimate |\n",
        "|-------|----------------|-----------------------|-----------------------|------------|--------------------------------|------------------------------------------------|-----------------------------|--------------------------------|\n",
        "| R-3 Roof: A poorly done roof patch was noted above the garage. No leaks were observed, however, I recommend a proper repair by a qualified roofer. | Remove the old patch and replace it with a new, properly installed patch. | Roofer | ``$100 - $200`` | Easy | False | ``$100 - $200`` | 2 hours | ``$0 - $50`` |\n",
        "| R-4 Roof: Advanced granule loss was noted on the shingles near the skylight in the primary bathroom. You may want to have these shingles replaced before the rest of the roof to prevent leaks from developing. | Replace the shingles. | Roofer | ``$500 - $1,000`` | Moderate | False | ``$500 - $1,000`` | 4 hours | ``$0 - $250`` |\n",
        "| R-5 Roof: One of the downspouts on this home is discharging next to the structure. This can cause moisture problems in the structure, or even foundation settling. I recommend routing all downspouts to discharge a minimum of 3 feet away from foundation walls and structural footings (deck footings for instance). | Reroute the downspout so that it discharges at least 3 feet away from the foundation wall. | Handyman | ``$50 - $100`` | Easy | True | ``$50 - $100`` | 1 hour | ``$0 - $25`` |\n",
        "\n",
        "**Estimated total cost of the repairs:**  ``$1,825 - $2,725`` *(This includes the cost of materials, labor, and any permits that may be required.)*"
      ]
    },
    {
      "cell_type": "markdown",
      "id": "9ecd31b4",
      "metadata": {
        "id": "9ecd31b4"
      },
      "source": [
        "### Repair/Replace Items 1-3: A (Attic)\n",
        "\n",
        "| Issue | Recommended Fix | Recommended Specialist | Estimated Cost Range | Difficulty | Possible To DIY | Total Professional Labor and Fees Cost Estimate | Total Hours Labor Estimate | Total Materials Cost Estimate | Total Cost Estimate |\n",
        "|---|---|---|---|---|---|---|---|---|---|\n",
        "| A-3 Attic | Hire a pest control company to evaluate the attic, seal up any openings where rodents can get in, set traps, and clean up any rodent waste. | Pest control company | ``$300 - $750`` | Moderate | False | ``$300 - $750`` | 2 - 4 hours | ``$0 - $100`` | ``$400 - $850`` |\n",
        "| A-5 Attic | Install additional soffit vents or baffles. | Handyman or contractor | ``$150 - $300`` | Easy | True | ``$150 - $300`` | 1 - 2 hours | ``$0 - $50`` | ``$200 - $350`` |\n",
        "\n",
        "\n",
        "**Estimated total cost of the repairs:**  ``$600 - $1200`` *(This includes the cost of materials, labor, and any permits that may be required.)*"
      ]
    },
    {
      "cell_type": "markdown",
      "id": "af09681f",
      "metadata": {
        "id": "af09681f"
      },
      "source": [
        "### Repair/Replace Items 1-4: E (Electrical)\n",
        "\n",
        "| Issue | Recommended Fix | Recommended Specialist | Estimated Cost Range | Difficulty | Possible To DIY (True/False) | Total Professional Labor and Fees Cost Estimate | Total Hours Labor Estimate | Total Materials Cost Estimate |\n",
        "|---|---|---|---|---|---|---|---|---|\n",
        "| E-2 Electrical: One of the electric breakers was off at the time of inspection. I do not switch breakers back on that were off, as these could be off for safety reasons. I recommend inquiring with the seller for additional information and then have this circuit further evaluated by a licensed electrician and repaired or switched on as deemed necessary. | Have a qualified electrician evaluate the circuit and determine the cause of the breaker being off. The electrician may need to replace the breaker or repair the wiring. | Electrician | ``$100 - $200`` | Moderate | False | ``$100 - $200`` | 1 - 2 hours | ``$0 - $50`` |\n",
        "| E-3 Electrical: GFCI protection is missing at some of the garage electrical receptacles. GFCI (Ground Fault Circuit Interrupter) receptacles protect the user from electric shock in wet or damp locations such as the garage. Have a qualified electrician install GFCI protection as necessary. | Install GFCI receptacles at all garage receptacles. | Electrician | ``$50 - $100`` | Easy | False | ``$50 - $100`` | 1 hour | ``$0 - $25`` |\n",
        "| E-4 Electrical: GFCI protection is missing at one of the kitchen receptacles. GFCI (Ground Fault Circuit Interrupter) receptacles protect the user from electric shock in wet or damp areas, or near water sources such as a kitchen sink. Modern standards call for GFCI protection at all receptacles that serve countertops in the kitchen, regardless of how far they are from the sink. Install GFCI protection for the receptacles here for improved safety. | Install GFCI receptacle at the kitchen countertop receptacle. | Electrician | ``$50 - $100`` | Easy | False | ``$50 - $100`` | 1 hour | ``$0 - $25`` |\n",
        "| E-5 Electrical: One ungrounded 3 prong outlet was noted in the garage. Grounding is an important safety component of electrical systems that provides a safe pathway to discharge stray voltage. Basically it protects users from electrical shock, and helps prevent arcing/electrical fires. Have a qualified electrician evaluate and repair as needed. | Install a grounding wire to the ungrounded receptacle. | Electrician | ``$50 - $100`` | Easy | False | ``$50 - $100`` | 1 hour | ``$0 - $25`` |\n",
        "| E-6 Electrical: Reverse polarity was noted at a couple electrical receptacles in the garage. This is when the hot and the neutral have been wired backwards. This is a safety issue that should be corrected by a licensed electrician. | Have a qualified electrician correct the reverse polarity. | Electrician | ``$50 - $100`` | Easy | False | ``$50 - $100`` | 1 hour | ``$0 - $25`` |\n",
        "| E-7 Electrical: There is a loose electrical receptacle at the exterior that should be secured to prevent accidental damage to the wiring connections. Have a qualified person tighten this receptacle as necessary. | Have a qualified person tighten the loose receptacle. | Handyman | ``$20 - $30`` | Easy | True | ``$20 - $30`` | 30 minutes | ``$0 - $10`` |\n",
        "| E-8 Electrical: GFCI protection is missing at the crawl space electrical receptacles. GFCI (Ground Fault Circuit Interrupter) receptacles protect the user from electric shock in wet or damp locations such as the garage. Have a qualified electrician install GFCI protection as necessary. For more information click here. | Install GFCI receptacles at all crawl space receptacles. | Electrician | ``$50 - $100`` | Easy | False | ``$50 - $100`` | 1 hour | ``$0 - $25`` |\n",
        "| E-9 Electrical: There are no smoke alarms installed in the bedrooms. Smoke alarms are recommended on the ceiling or within twelve inches of the ceiling in all bedrooms in accordance with modern standards (since 1993). | Install smoke alarms in all bedrooms. | Handyman | ``$10 - $20`` | Easy | True | ``$10 - $20`` | 30 minutes | ``$0 - $10`` |\n",
        "\n",
        "**Estimated total cost of the repairs:**  ``$570 - $1,270`` *(This includes the cost of materials, labor, and any permits that may be required.)*"
      ]
    },
    {
      "cell_type": "markdown",
      "id": "7bcd4d01",
      "metadata": {
        "id": "7bcd4d01"
      },
      "source": [
        "### Repair/Replace Items 1-3: HCF (Heating, Cooling and Fireplaces), I (Interior), K (Kitchen), CS (Crawl Spaces)\n",
        "\n",
        "| Issue | Recommended Fix | Recommended Specialist | Estimated Cost Range | Difficulty | Possible To DIY (True/False) | Total Professional Labor and Fees Cost Estimate | Total Hours Labor Estimate | Total Materials Cost Estimate |\n",
        "|---|---|---|---|---|---|---|---|---|\n",
        "| HCF-4 Heating, Cooling and Fireplaces: The gas fireplace was not functional at the time of the inspection. Have a qualified person further evaluate and repair as necessary. | Have a qualified heating and cooling technician evaluate the fireplace and make repairs as needed. | Heating and cooling technician | ``$100 - $300`` | Moderate | False | ``$600 - $900`` | 1 - 2 hours | ``$0 - $100`` |\n",
        "| I-2 Interior: A door stopper is missing in the first floor bathroom. Install as necessary to prevent damage to the wall. | Install a door stopper. | Handyman | ``$10 - $20`` | Easy | True | ``$10 - $20`` | 15 minutes | $0 - $10 |\n",
        "| I-3 Interior: The east bedroom closet door is rubbing on the carpet. This door should be trimmed so that it does not drag on the carpet, which will wear a pattern into the carpet over time. | Trim the door so that it no longer rubs on the carpet. | Handyman | ``$20 - $50`` | Easy | True | ``$20 - $50`` | 30 minutes | ``$0 - $25`` |\n",
        "| I-4 Interior: Some of the windows are missing screens. Inquire with the seller to make sure window screens are included and installed as desired. | Install window screens. | Handyman | ``$10 - $20`` | Easy | True | ``$10 - $20`` | 15 minutes | ``$0 - $10`` |\n",
        "| K-1 Kitchen: An un-capped water shut off was noted under the kitchen sink. I recommend installing a cap here to prevent inadvertent leaks. | Install a cap on the uncapped water shutoff. | Handyman | ``$5 - $10`` | Easy | True | ``$5 - $10`` | 10 minutes | ``$0 - $5`` |\n",
        "| K-2 Kitchen: There is no air gap or high loop installed on the dishwasher drain hose. A dishwasher air gap serves as a safety feature to prevent contaminated water from flowing back into the dishwasher and potentially causing health hazards. When a dishwasher drains, it pumps out wastewater that is full of food particles and other debris. This wastewater flows into the kitchen sink drain and is carried away by the plumbing system. However, if there is a blockage or backup in the plumbing system, this wastewater can flow back into the dishwasher, contaminating it with harmful bacteria and other pathogens. A dishwasher air gap device works by creating a literal air gap between the dishwasher drain hose and the plumbing system. This prevents contaminated water from flowing back into the dishwasher if there is a blockage or backup in the plumbing system. If an air gap cannot be installed, at least run the drain line as high up in the cabinet as possible to create a high loop. (This was an older way of protecting the dishwasher before air gap devices were required). | Install an air gap or high loop on the dishwasher drain hose. | Handyman | ``$10 - $20`` | Easy | True | ``$10 - $20`` | 15 minutes | ``$0 - $10`` |\n",
        "| CS-2 Crawl Space: The crawl space hatch is not rodent proof. Have a qualified person repair as necessary. | Install a rodent-proof cover on the crawl space hatch. | Handyman | ``$20 - $50`` | Easy | True | ``$20 - $50`` | 30 minutes | 50\n",
        "\n",
        "**Estimated total cost of the repairs:**  ``$2000 - $3000`` *(This includes the cost of materials, labor, and any permits that may be required.)*"
      ]
    },
    {
      "cell_type": "markdown",
      "id": "d55d5dec",
      "metadata": {
        "id": "d55d5dec"
      },
      "source": [
        "## TOTAL ESTIMATED COST OF REPAIR/REPLACE ITEMS: ``$4,425 - $7,715``\n",
        "\n",
        "-----"
      ]
    },
    {
      "cell_type": "markdown",
      "id": "519e106a",
      "metadata": {
        "id": "519e106a"
      },
      "source": [
        "# PART 2: Routine Maintenance Items"
      ]
    },
    {
      "cell_type": "markdown",
      "id": "4d675e87",
      "metadata": {
        "id": "4d675e87"
      },
      "source": [
        "### Routine Maintenance Items 2-1: E (Exterior), R (Roof)\n",
        "\n",
        "| Issue | Recommended Fix | Recommended Specialist | Estimated Cost Range | Difficulty | Possible To DIY (True/False) | Total Professional Labor and Fees Cost Estimate | Total Hours Labor Estimate | Total Materials Cost Estimate |\n",
        "|---|---|---|---|---|---|---|---|---|\n",
        "| E1-2 Exterior: The exterior wood trim paint should be touched up where it is chipping/peeling off to prevent moisture damage. | Touch up paint | Painter | `$200 - $500` | Easy | True | `$200 - $500` | 2 - 4 hours | `$200 - $500` |\n",
        "| E1-3 Exterior: Moss is growing on the chimney. This should be removed as it can tend to contribute to deterioration of the brick and mortar over time. | Moss removal | Roofer | `$500 - $1,000` | Moderate | False | `$500 - $1,000` | 4 - 6 hours | `$500 - $1,000` |\n",
        "| R-2 Roof: Minor moss build-up was noted on some parts of the roof. This can be bad for the roof as it can trap moisture, inhibit proper drainage, lift shingles, and damage the surface of the shingles. Moss treatment/removal is recommended. Pressure washers should not be used to clean the moss as they can damage the shingles. | Moss treatment/removal | Roofer | `$500 - $1,000` | Moderate | False | `$500 - $1,000` | 4 - 6 hours | `$500 - $1,000` |\n",
        "\n",
        "**Estimated total cost of the repairs:**  ``$2,200 - $3,500`` *(This includes the cost of materials, labor, and any permits that may be required.)*"
      ]
    },
    {
      "cell_type": "markdown",
      "id": "c09abf49",
      "metadata": {
        "id": "c09abf49"
      },
      "source": [
        "## ESTIMATED COST OF MAINTENANCE ITEMS: ``$2,200 - $3,500``\n",
        "\n",
        "-----"
      ]
    },
    {
      "cell_type": "markdown",
      "id": "b2cc4bec",
      "metadata": {
        "id": "b2cc4bec"
      },
      "source": [
        "# PART 3: Improve/Upgrade Items"
      ]
    },
    {
      "cell_type": "markdown",
      "id": "b75f07a7",
      "metadata": {
        "id": "b75f07a7"
      },
      "source": [
        "### Improve/Upgrade Items 3-1: I (Interior)\n",
        "\n",
        "| Issue | Recommended Fix | Recommended Specialist | Estimated Cost Range | Difficulty | Possible To DIY (True/False) | Total Professional Labor and Fees Cost Estimate | Total Hours Labor Estimate | Total Materials Cost Estimate |\n",
        "|---|---|---|---|---|---|---|---|---|\n",
        "| I-1 Interior: The openings in the interior guardrails are greater than 4 inches. This is typical of older homes as codes have changed over the years. If children will be present, recommend reducing gaps to 4 inches or less to bring this up to current standards for toddler safety. | Install new guardrails or modify existing guardrails to reduce the openings to 4 inches or less. | General contractor or carpenter | `$500 - $1,000` | Moderate | False | `$500 - $1,000` | 4 - 6 hours | `$500 - $1,000` |\n",
        "\n",
        "**Estimated total cost of the repairs:**  ``$1,000 - $2,000`` *(This includes the cost of materials, labor, and any permits that may be required.)*"
      ]
    },
    {
      "cell_type": "markdown",
      "id": "2c4de6eb",
      "metadata": {
        "id": "2c4de6eb"
      },
      "source": [
        "## ESTIMATED COST OF IMPROVE/UPGRADE ITEMS: ``$1,000 - $2,000``\n",
        "\n",
        "-----"
      ]
    },
    {
      "cell_type": "markdown",
      "id": "cbf48399",
      "metadata": {
        "id": "cbf48399"
      },
      "source": [
        "# PART 4: Efficiency Items"
      ]
    },
    {
      "cell_type": "markdown",
      "id": "6844eeb7",
      "metadata": {
        "id": "6844eeb7"
      },
      "source": [
        "### Efficiency Items 4-1: A (Attic)\n",
        "\n",
        "| Issue | Recommended Fix | Recommended Specialist | Estimated Cost Range | Difficulty | Possible To DIY (True/False) | Total Professional Labor and Fees Cost Estimate | Total Hours Labor Estimate | Total Materials Cost Estimate |\n",
        "|---|---|---|---|---|---|---|---|\n",
        "| A-2 Attic: I recommend installing insulation on the side attic access hatch to reduce heat loss into the attic. | Install insulation around the attic access hatch. | Handyman or insulation contractor | $100 - $200 | Easy | True | $100 - $200 | 1 - 2 hours | $100 - $200 |\n",
        "| A-4 Attic: Some insulation around the skylight chamber is missing. This is important for energy efficiency, but also to reduce risks of condensation. | Install insulation around the skylight chamber. | Handyman or insulation contractor | $200 - $400 | Easy | True | $200 - $400 | 2 - 4 hours | $200 - $400 |\n",
        "\n",
        "**Estimated total cost of the repairs:**  ``$300 - $600`` *(This includes the cost of materials, labor, and any permits that may be required.)*"
      ]
    },
    {
      "cell_type": "markdown",
      "id": "bf168807",
      "metadata": {
        "id": "bf168807"
      },
      "source": [
        "## ESTIMATED COST OF IMPROVE/UPGRADE ITEMS: ``$300-600``\n",
        "\n",
        "-----"
      ]
    },
    {
      "cell_type": "markdown",
      "id": "7f29acda",
      "metadata": {
        "id": "7f29acda"
      },
      "source": [
        "# PART 5: Etc."
      ]
    },
    {
      "cell_type": "markdown",
      "id": "84508be8",
      "metadata": {
        "id": "84508be8"
      },
      "source": [
        "### Etc. 4-1\n",
        "\n",
        "| Issue | Recommended Fix | Recommended Specialist | Estimated Cost Range | Difficulty | Possible To DIY (True/False) | Total Professional Labor and Fees Cost Estimate | Total Hours Labor Estimate | Total Materials Cost Estimate |\n",
        "|---|---|---|---|---|---|---|---|---|\n",
        "| R-1 Roof: The roofing material on this home is an architectural grade shingle. These are often rated as 30-year shingles, but typically need to be replaced before the 30-year mark. This roof is estimated to be around 20 years old. | Replace the roof. | Roofer | ``$8,000 - $12,000`` | Moderate | False | `$1,000 - $2,000` | 4 - 6 days | `$8,000 - $12,000` |\n",
        "| E-1 Electrical: For informational purposes, this home has a 200 amp, Challenger brand electrical panel. | No repairs or replacements are recommended at this time. | Electrician | `$100 - $200` | Easy | True | `$100 - $200` | 1 hour | `$100 - $200` |\n",
        "| P-1 Plumbing: For informational purposes, the main water shut-off valve is located in the kitchen. It is good to be familiar with its location and operation in case there is ever a leak in the home and you need to shut the water off quickly. | No repairs or replacements are recommended at this time. | Plumber | `$100 - $200` | Easy | True | `$100 - $200` | 1 hour | `$100 - $200` |\n",
        "| P-2 Plumbing: Water pressure was tested at 75 PSI. This is within the normal acceptable range of 40-80 PSI. | No repairs or replacements are recommended at this time. | Plumber | `$100 - $200` | Easy | True | `$100 - $200` | 1 hour | `$100 - $200` |\n",
        "| P-4 Plumbing: No issues were found with the tank-less water heater. This unit is 4 years old. Tank-less water heaters typically last about 20 years. | No repairs or replacements are recommended at this time. | Plumber | `$100 - $200` | Easy | True | `$100 - $200` | 1 hour | `$100 - $200` |\n",
        "| HCF-1 Heating, Cooling and Fireplaces: The gas forced air furnace is 9 years old and was in good operating condition during the inspection. Furnaces typically last around 20-30 years if maintained regularly. Pics included below for reference/informational purposes. | No repairs or replacements are recommended at this time. | HVAC technician | `$100 - $200` | Easy | True | `$100 - $200` | 1 hour | `$100 - $200` |\n",
        "| HCF-2 Heating, Cooling and Fireplaces: The furnace filter was nice and clean at the time of the inspection.  Going forward, I recommend checking this filter 2-3 times per year and replacing it as needed.  | No repairs or replacements are recommended at this time. | HVAC technician | `$100 - $200` | Easy | True | `$100 - $200` | 1 hour | `$100 - $200` |\n",
        "| HCF-3 Heating, Cooling and Fireplaces: The air condition system and associated condensate control system could not be tested during inspection. Outdoor temperatures must exceed 65 degrees or the air conditioning equipment can be damaged by testing. The system is 7 years old and these systems typically last around 20-25 years if maintained well. | Have the system serviced by a qualified HVAC technician. | HVAC technician | `$100 - $200` | Easy | True | `$100 - $200` | 1 hour | `$100 - $200` |\n",
        "| FSD-1 Fuel Storage and Distribution: For informational purposes, the main gas shut-off is at the meter on the left (viewed from the street) side of the home. Turning this valve 90 degrees will shut off the gas to the whole house. I recommend keeping a crescent wrench handy for this purpose. | No repairs or replacements are recommended at this time. | HVAC technician | `$100 - $200` | Easy | True | `$100` |\n",
        "| SB-1 Structure and Basement: The house appears to be structurally sound overall. The visible framing members are in good condition with no suggested repairs noted. The exposed, accessible portions of the poured concrete perimeter foundation walls appeared to be satisfactory. There were no major cracks, and no significant settling of the foundation or structure observed at this time. There was also no notable structural settling or sloping of interior floors observed. There are no suggested structural repairs at this time. | No repairs or replacements are recommended at this time. | Structural Engineer | `$100 - $200` | Easy | True | `$100 - $200` | 1 hour | `$100 - $200` |\n",
        "\n",
        "\n",
        "**Estimated total cost of the repairs:**  ``$8,000 - $12,000`` *(This includes the cost of materials, labor, and any permits that may be required.)*"
      ]
    },
    {
      "cell_type": "markdown",
      "id": "6a560398",
      "metadata": {
        "id": "6a560398"
      },
      "source": [
        "## ESTIMATED COST OF ETC ITEMS: ``$8,000 - $12,000``\n",
        "\n",
        "-----"
      ]
    },
    {
      "cell_type": "markdown",
      "id": "d028cb05",
      "metadata": {
        "id": "d028cb05"
      },
      "source": [
        "# TOTAL ESTIMATED COST RANGE FROM INSPECTION LIST: ``$15,725 - $24,415``\n",
        "\n",
        "-----"
      ]
    },
    {
      "cell_type": "code",
      "execution_count": null,
      "id": "0e2c04b8",
      "metadata": {
        "id": "0e2c04b8"
      },
      "outputs": [],
      "source": []
    }
  ],
  "metadata": {
    "kernelspec": {
      "display_name": "Python 3 (ipykernel)",
      "language": "python",
      "name": "python3"
    },
    "language_info": {
      "codemirror_mode": {
        "name": "ipython",
        "version": 3
      },
      "file_extension": ".py",
      "mimetype": "text/x-python",
      "name": "python",
      "nbconvert_exporter": "python",
      "pygments_lexer": "ipython3",
      "version": "3.7.12"
    },
    "colab": {
      "provenance": [],
      "include_colab_link": true
    }
  },
  "nbformat": 4,
  "nbformat_minor": 5
}